{
  "nbformat": 4,
  "nbformat_minor": 0,
  "metadata": {
    "colab": {
      "name": "Source_Code_Tubes_AI_Mohammad_Sani_Rafsanjani_1301174181.ipynb",
      "provenance": [],
      "collapsed_sections": []
    },
    "kernelspec": {
      "name": "python3",
      "display_name": "Python 3"
    }
  },
  "cells": [
    {
      "cell_type": "code",
      "metadata": {
        "id": "ErYLukaRENbA"
      },
      "source": [
        "import numpy as np  # import numpy\n",
        "import random # untuk random number\n",
        "import math # untuk operasi math cos sin"
      ],
      "execution_count": 13,
      "outputs": []
    },
    {
      "cell_type": "code",
      "metadata": {
        "id": "MyuMFfdzmEe6"
      },
      "source": [
        "#fungsi nilai minimum\n",
        "def n_min(x1, x2): #f(x1,x2)\n",
        "  f = math.cos(x1) *  math.sin(x2) - (x1 / (x2**2 + 1))\n",
        "  return f"
      ],
      "execution_count": 14,
      "outputs": []
    },
    {
      "cell_type": "code",
      "metadata": {
        "id": "sJHOOcvHmMJ4"
      },
      "source": [
        "#fungsi fitness minimal\n",
        "def fungsi_min(f):\n",
        "  fitness = 1 / (f + 0.01)\n",
        "  return fitness "
      ],
      "execution_count": 15,
      "outputs": []
    },
    {
      "cell_type": "code",
      "metadata": {
        "id": "Lkg55peBmMMz"
      },
      "source": [
        "#kromosom\n",
        "def kromosom():\n",
        "  krom=[]\n",
        "  for i in range(6):    \n",
        "    krom.append(random.randint(0,9))\n",
        "  return krom"
      ],
      "execution_count": 16,
      "outputs": []
    },
    {
      "cell_type": "code",
      "metadata": {
        "id": "6XQBflHSmMQK"
      },
      "source": [
        "#populasi\n",
        "def populasi():\n",
        "  pop=[]\n",
        "  for i in range(6):\n",
        "    pop.append( kromosom())\n",
        "  return pop\n"
      ],
      "execution_count": 17,
      "outputs": []
    },
    {
      "cell_type": "code",
      "metadata": {
        "id": "PQMn4RFdmuLy"
      },
      "source": [
        "#decode kromosom x1 dan x2\n",
        "def penotipe(krm, max, min): #Batasan     -1 <= x <= 2  ,  -1 <= x <= 1\n",
        "  b_atas = 0\n",
        "  b_bwh = 0\n",
        "  for i in range(len(krm)):\n",
        "    g = (krm[i])\n",
        "    b_atas += (g*(10**-(i+1)))\n",
        "    b_bwh += (9*(10**-(i+1)))\n",
        "  x = min + (((max-min)*b_atas)/b_bwh)\n",
        "  return x"
      ],
      "execution_count": 18,
      "outputs": []
    },
    {
      "cell_type": "code",
      "metadata": {
        "id": "iEixmj_tmuOm"
      },
      "source": [
        "def pot(krm):\n",
        "  half = len(krm)//2\n",
        "  return krm[:half], krm[half:]"
      ],
      "execution_count": 19,
      "outputs": []
    },
    {
      "cell_type": "code",
      "metadata": {
        "id": "Zs5_IUjmmuUg"
      },
      "source": [
        "#seleksi orang tua\n",
        "def SeleksiOrangtua(pop,fitness,total):\n",
        "  r = random.random()\n",
        "  i = 0\n",
        "  while (r>0):\n",
        "    r -= fitness[i]/total\n",
        "    i += 1\n",
        "    if (i == (len(pop)-1)): \n",
        "         break\n",
        "  orangtua = pop[i]\n",
        "  return orangtua"
      ],
      "execution_count": 20,
      "outputs": []
    },
    {
      "cell_type": "code",
      "metadata": {
        "id": "CztK5DN8muYG"
      },
      "source": [
        "#pindah silang\n",
        "def f_pindahsilang(orangtua1,orangtua2):\n",
        "  pindah_s1, pindah_s2 = [], []\n",
        "  n_ps = []\n",
        "  chance = random.random()\n",
        "  if (chance < 0.9):\n",
        "    point = random.randint(0,5)\n",
        "    pindah_s1[:point] = orangtua1[:point]\n",
        "    pindah_s1[point:] = orangtua2[point:]\n",
        "    pindah_s2[:point] = orangtua2[:point]\n",
        "    pindah_s2[point:] = orangtua1[point:]\n",
        "    n_ps.append(pindah_s1)\n",
        "    n_ps.append(pindah_s2)\n",
        "  else:\n",
        "    n_ps.append(orangtua1)\n",
        "    n_ps.append(orangtua2)\n",
        "  return n_ps"
      ],
      "execution_count": 21,
      "outputs": []
    },
    {
      "cell_type": "code",
      "metadata": {
        "id": "bbpjvnX-m5nI"
      },
      "source": [
        "#mutasi\n",
        "def mutasi(pindah_s1,pindah_s2):\n",
        "  chance = random.random()\n",
        "  if (chance < 0.3):\n",
        "      for i in range (len(pindah_s1)):\n",
        "        p = random.random()\n",
        "        if (p < 0.25):\n",
        "          pindah_s1[i] = random.randint(0,9)\n",
        "      for i in range (len(pindah_s2)):\n",
        "        p = random.random()\n",
        "        if (p < 0.25):\n",
        "          pindah_s2[i] = random.randint(0,9)\n",
        "  n_ps = []\n",
        "  n_ps.append(pindah_s1)\n",
        "  n_ps.append(pindah_s2)\n",
        "  return n_ps"
      ],
      "execution_count": 22,
      "outputs": []
    },
    {
      "cell_type": "code",
      "metadata": {
        "id": "tZ7gj2Wbm84g"
      },
      "source": [
        "#populasi terbaik\n",
        "def bestpop(pop):\n",
        "  max_fitness = -9999\n",
        "  id = []\n",
        "  for i in range(len(pop)):\n",
        "    id = pop[i]\n",
        "    a, b = pot(id)\n",
        "    x1 = penotipe(a, -1, 2)\n",
        "    x2 = penotipe(b, -1, 1)\n",
        "    f = n_min(x1, x2)\n",
        "    fitness = fungsi_min(f)\n",
        "    if (fitness>max_fitness):\n",
        "      max_fitness = fitness\n",
        "      n_maxID = id\n",
        "    return n_maxID"
      ],
      "execution_count": 23,
      "outputs": []
    },
    {
      "cell_type": "code",
      "metadata": {
        "id": "JxXqdxMBmuR_",
        "outputId": "e825248c-7490-4e79-af9b-0fd004ffe615",
        "colab": {
          "base_uri": "https://localhost:8080/",
          "height": 131
        }
      },
      "source": [
        "#main program \n",
        "pop = populasi()\n",
        "generasi = 1\n",
        "while(generasi<4):\n",
        "  id = [] \n",
        "  fitness = []\n",
        "  daftar_f = []\n",
        "  populasi_baru = []\n",
        "  anak= []\n",
        "  best = bestpop(pop)\n",
        "  total = 0\n",
        "  for i in range(len(pop)):\n",
        "    id = pop[i]\n",
        "    a, b = pot(id)\n",
        "    x1 = penotipe(a, 3, -3)\n",
        "    x2 = penotipe(b, 2, -2)\n",
        "    f = n_min(x1, x2)\n",
        "    fitness = fungsi_min(f)\n",
        "    daftar_f.append(fungsi_min(f))  \n",
        "    total += fitness\n",
        "  for j in range(len(pop)//2):\n",
        "    orangtua1 = SeleksiOrangtua(pop,daftar_f,total)\n",
        "    orangtua2 = SeleksiOrangtua(pop,daftar_f,total)\n",
        "    anak = f_pindahsilang(orangtua1,orangtua2)\n",
        "    anak = mutasi(anak[0],anak[1])\n",
        "    populasi_baru.append(anak[0])\n",
        "    populasi_baru.append(anak[1])\n",
        "  best = bestpop(populasi_baru)\n",
        "  pop = populasi_baru \n",
        "  generasi+=1\n",
        "print(\"==================================\")  \n",
        "print(\"Kromosom Terbaik : \")\n",
        "print(\"Genotype : \",best)\n",
        "a, b = pot(best)\n",
        "x1 = penotipe(a, -1, 2)\n",
        "x2 = penotipe(b, -1, 1)\n",
        "print(\"Fenotype : \",x1,x2)\n",
        "print(\"Nilai Fungsi : \",n_min(x1,x2))\n",
        "print(\"Nilai Fitness : \",fungsi_min(n_min(x1,x2)))\n",
        "print(\"==================================\") "
      ],
      "execution_count": 24,
      "outputs": [
        {
          "output_type": "stream",
          "text": [
            "==================================\n",
            "Kromosom Terbaik : \n",
            "Genotype :  [3, 7, 0, 9, 0, 5]\n",
            "Fenotype :  0.8888888888888888 -0.8118118118118118\n",
            "Nilai Fungsi :  -0.993072348558198\n",
            "Nilai Fitness :  -1.017219130887598\n",
            "==================================\n"
          ],
          "name": "stdout"
        }
      ]
    }
  ]
}